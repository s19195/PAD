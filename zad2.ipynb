{
  "nbformat": 4,
  "nbformat_minor": 0,
  "metadata": {
    "colab": {
      "provenance": [],
      "collapsed_sections": []
    },
    "kernelspec": {
      "name": "python3",
      "display_name": "Python 3"
    },
    "language_info": {
      "name": "python"
    }
  },
  "cells": [
    {
      "cell_type": "code",
      "execution_count": null,
      "metadata": {
        "id": "NhtSVR-ugOAB"
      },
      "outputs": [],
      "source": [
        "import numpy as np"
      ]
    },
    {
      "cell_type": "markdown",
      "source": [
        "Zadanie 1"
      ],
      "metadata": {
        "id": "oU4pVPXyppF-"
      }
    },
    {
      "cell_type": "code",
      "source": [
        "import pandas as pd\n",
        "data = pd.read_csv('president_heights.csv')\n",
        "heights = np.array(data['height(cm)'])\n",
        "print(heights)\n",
        "print(\"Mean height:       \",np.mean(heights) )\n",
        "print(\"Standard deviation:\",np.std(heights) )\n",
        "print(\"Minimum height:    \", np.max(heights))\n",
        "print(\"Maximum height:    \", np.min(heights))\n",
        "print(\"25th percentile:   \", np.quantile(heights, 0.25, axis=0))\n",
        "print(\"Median:            \", np.median(heights))\n",
        "print(\"75th percentile:   \", np.quantile(heights, 0.75, axis=0))\n",
        "data_ex2 = np.genfromtxt('Zadanie_2.csv', delimiter=';')"
      ],
      "metadata": {
        "colab": {
          "base_uri": "https://localhost:8080/"
        },
        "id": "OKJ2QntTg6ZQ",
        "outputId": "6780b802-9bcf-4045-ffe8-dc17f036f193"
      },
      "execution_count": 56,
      "outputs": [
        {
          "output_type": "stream",
          "name": "stdout",
          "text": [
            "[189 170 189 163 183 171 185 168 173 183 173 173 175 178 183 193 178 173\n",
            " 174 183 183 168 170 178 182 180 183 178 182 188 175 179 183 193 182 183\n",
            " 177 185 188 188 182 185]\n",
            "Mean height:        179.73809523809524\n",
            "Standard deviation: 6.931843442745892\n",
            "Minimum height:     193\n",
            "Maximum height:     163\n",
            "25th percentile:    174.25\n",
            "Median:             182.0\n",
            "75th percentile:    183.0\n"
          ]
        }
      ]
    },
    {
      "cell_type": "markdown",
      "source": [
        "Zadanie 2"
      ],
      "metadata": {
        "id": "rAYQKCssxj1m"
      }
    },
    {
      "cell_type": "code",
      "source": [
        "data_ex2 = np.genfromtxt('Zadanie_2.csv', delimiter=';')\n",
        "np.linalg.eigvals(data_ex2)"
      ],
      "metadata": {
        "colab": {
          "base_uri": "https://localhost:8080/"
        },
        "id": "qJ6zg6c1yUPg",
        "outputId": "220d4d59-935c-49a2-a611-137b23b5dd48"
      },
      "execution_count": null,
      "outputs": [
        {
          "output_type": "execute_result",
          "data": {
            "text/plain": [
              "array([104.34960192 +0.j        , -23.35660516+18.84992811j,\n",
              "       -23.35660516-18.84992811j,  15.92989017 +0.j        ,\n",
              "        -4.99456452 +0.j        ,   0.35205717 +5.80125175j,\n",
              "         0.35205717 -5.80125175j,  -1.03383491 +0.j        ,\n",
              "         3.87900166 +1.42651533j,   3.87900166 -1.42651533j])"
            ]
          },
          "metadata": {},
          "execution_count": 26
        }
      ]
    },
    {
      "cell_type": "markdown",
      "source": [],
      "metadata": {
        "id": "JXFFr90qpkk-"
      }
    },
    {
      "cell_type": "markdown",
      "source": [
        "Zadanie 3"
      ],
      "metadata": {
        "id": "IwNvWVwJ6y-X"
      }
    },
    {
      "cell_type": "code",
      "source": [
        "rainfall = pd.read_csv('Seattle2014.csv')['PRCP'].values\n",
        "inches = rainfall / 254.0  # 1/10mm -> inches\n",
        "inches.shape\n"
      ],
      "metadata": {
        "colab": {
          "base_uri": "https://localhost:8080/"
        },
        "id": "Lt0MWq_j605c",
        "outputId": "f64bfab2-f3cc-41ae-a630-0e7ed1c9ab4e"
      },
      "execution_count": null,
      "outputs": [
        {
          "output_type": "execute_result",
          "data": {
            "text/plain": [
              "(365,)"
            ]
          },
          "metadata": {},
          "execution_count": 7
        }
      ]
    },
    {
      "cell_type": "code",
      "source": [
        "%matplotlib inline\n",
        "import matplotlib.pyplot as plt\n",
        "import seaborn; seaborn.set()  # set plot styles\n",
        "plt.hist(inches, 40);\n"
      ],
      "metadata": {
        "colab": {
          "base_uri": "https://localhost:8080/",
          "height": 268
        },
        "id": "56OT7NvV7e7G",
        "outputId": "9e733ff0-66a9-4d9a-c898-0eb7270b04f7"
      },
      "execution_count": null,
      "outputs": [
        {
          "output_type": "display_data",
          "data": {
            "text/plain": [
              "<Figure size 432x288 with 1 Axes>"
            ],
            "image/png": "[encoded data removed]"
          },
          "metadata": {}
        }
      ]
    },
    {
      "cell_type": "code",
      "source": [
        "zeros=0;\n",
        "numberOfDaysWithRain = 0;\n",
        "daysWithMoreThanHalfInches =0;\n",
        "smallRainyDays=0;\n",
        "for x in np.nditer(inches):\n",
        "  if x == 0 :\n",
        "    zeros = zeros+1;\n",
        "  if x > 0 :\n",
        "    numberOfDaysWithRain =+1;\n",
        "    if x < 0.2 :\n",
        "      smallRainyDays=+1;\n",
        "  if x > 0.5:\n",
        "    daysWithMoreThanHalfInches =+1;\n",
        "\n",
        "print(\"Number days without rain:      \",zeros)\n",
        "print(\"Number days with rain:         \", numberOfDaysWithRain)\n",
        "print(\"Days with more than 0.5 inches:\", daysWithMoreThanHalfInches)\n",
        "print(\"Rainy days with < 0.2 inches  :\", smallRainyDays)\n",
        "\n",
        "arr2 = inches[:172]\n",
        "arr3 = inches[262:]\n",
        "print(\"Median precip on rainy days in 2014 (inches):   \", np.median(inches[inches > 0]))\n",
        "print(\"Median precip on summer days in 2014 (inches):  \", np.median(inches[172:262]))\n",
        "print(\"Maximum precip on summer days in 2014 (inches): \", np.max(inches[172:262]))\n",
        "print(\"Maximum precip on non-summer rainy days (inches):\", np.max(np.append(arr2,arr3)))\n"
      ],
      "metadata": {
        "colab": {
          "base_uri": "https://localhost:8080/"
        },
        "id": "veeYWowcB9Nx",
        "outputId": "2b837670-5cff-4ada-aa5c-091188c40026"
      },
      "execution_count": 57,
      "outputs": [
        {
          "output_type": "stream",
          "name": "stdout",
          "text": [
            "Number days without rain:       215\n",
            "Number days with rain:          1\n",
            "Days with more than 0.5 inches: 1\n",
            "Rainy days with < 0.2 inches  : 1\n",
            "Median precip on rainy days in 2014 (inches):    0.19488188976377951\n",
            "Median precip on summer days in 2014 (inches):   0.0\n",
            "Maximum precip on summer days in 2014 (inches):  0.8503937007874016\n",
            "Maximum precip on non-summer rainy days (inches): 1.8385826771653544\n"
          ]
        }
      ]
    },
    {
      "cell_type": "markdown",
      "source": [
        "Zadanie 4"
      ],
      "metadata": {
        "id": "wFPG7nQkM4Qb"
      }
    },
    {
      "cell_type": "code",
      "source": [
        "A = [0,3,2,5]\n",
        "B = [0,3,1,4]\n",
        "np.add(A,B)"
      ],
      "metadata": {
        "id": "VOhtQTfsM7Hy",
        "colab": {
          "base_uri": "https://localhost:8080/"
        },
        "outputId": "4b29e97a-fec0-4059-db01-6976e0aa31f9"
      },
      "execution_count": 51,
      "outputs": [
        {
          "output_type": "execute_result",
          "data": {
            "text/plain": [
              "array([0, 6, 3, 9])"
            ]
          },
          "metadata": {},
          "execution_count": 51
        }
      ]
    },
    {
      "cell_type": "code",
      "source": [
        "np.subtract(B,A)"
      ],
      "metadata": {
        "colab": {
          "base_uri": "https://localhost:8080/"
        },
        "id": "hPvYvLwOomK5",
        "outputId": "e7519833-1301-4715-a9b2-16564c32c9f3"
      },
      "execution_count": 52,
      "outputs": [
        {
          "output_type": "execute_result",
          "data": {
            "text/plain": [
              "array([ 0,  0, -1, -1])"
            ]
          },
          "metadata": {},
          "execution_count": 52
        }
      ]
    },
    {
      "cell_type": "code",
      "source": [
        "np. multiply(B,4)"
      ],
      "metadata": {
        "colab": {
          "base_uri": "https://localhost:8080/"
        },
        "id": "ZlAwP335osZr",
        "outputId": "4be74d44-4372-4ebe-c46e-e6f4559f4764"
      },
      "execution_count": 53,
      "outputs": [
        {
          "output_type": "execute_result",
          "data": {
            "text/plain": [
              "array([ 0, 12,  4, 16])"
            ]
          },
          "metadata": {},
          "execution_count": 53
        }
      ]
    },
    {
      "cell_type": "code",
      "source": [
        "np. multiply(A,B)"
      ],
      "metadata": {
        "colab": {
          "base_uri": "https://localhost:8080/"
        },
        "id": "UGNl44bup43_",
        "outputId": "316d4b23-f706-4fb7-9ed3-6c106b69ab69"
      },
      "execution_count": 54,
      "outputs": [
        {
          "output_type": "execute_result",
          "data": {
            "text/plain": [
              "array([ 0,  9,  2, 20])"
            ]
          },
          "metadata": {},
          "execution_count": 54
        }
      ]
    },
    {
      "cell_type": "code",
      "source": [
        "np.linalg.norm(B)"
      ],
      "metadata": {
        "colab": {
          "base_uri": "https://localhost:8080/"
        },
        "id": "8CoWLSlhtulF",
        "outputId": "094f5912-901b-4c4e-9332-d2cba65c82fe"
      },
      "execution_count": 55,
      "outputs": [
        {
          "output_type": "execute_result",
          "data": {
            "text/plain": [
              "5.0990195135927845"
            ]
          },
          "metadata": {},
          "execution_count": 55
        }
      ]
    }
  ]
}