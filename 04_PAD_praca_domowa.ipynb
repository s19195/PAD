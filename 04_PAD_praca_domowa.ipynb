{
  "nbformat": 4,
  "nbformat_minor": 0,
  "metadata": {
    "colab": {
      "provenance": [],
      "include_colab_link": true
    },
    "kernelspec": {
      "name": "python3",
      "display_name": "Python 3"
    },
    "language_info": {
      "name": "python"
    }
  },
  "cells": [
    {
      "cell_type": "markdown",
      "metadata": {
        "id": "view-in-github",
        "colab_type": "text"
      },
      "source": [
        "<a href=\"https://colab.research.google.com/github/s19195/PAD/blob/main/04_PAD_praca_domowa.ipynb\" target=\"_parent\"><img src=\"https://colab.research.google.com/assets/colab-badge.svg\" alt=\"Open In Colab\"/></a>"
      ]
    },
    {
      "cell_type": "markdown",
      "source": [
        "Zadanie 1 (5 pkt)\n",
        "\n",
        "\n",
        "Wgraj zawartość pliku orders.csv do ramki danych.\n",
        "Przyjrzyj się danym, wykorzystując poznane metody (describe, info, head) zanalizuj dane.\n",
        "\n",
        "Następnie:\n",
        "\n",
        "\n",
        "\n",
        "1. Zamień order_date na format daty. Upewnij się, że w rezultacie data będzie w formacie: rok-miesiąc-dzień;\n",
        "2. Sprawdź ile i jakie unikalne wartości znajdują się w kolumnie T-shirt category;\n",
        "3. Wyczyść kolumnę tshirt_category normalizując nazwy produktów. Upewnij się, że dla każdej kategorii funkcjonuje jedna nazwa, np. zamiast white i wh jest tylko jedna wersja white. Skorzystaj z klasy string i metody apply;\n",
        "4. Rozdziel kolumnę tshirt category na 3 kolumny: tshirt_type, która będzie mówiła o tym czy jest to koszulka, bluza czy coś innego, tshirt_size, która będzie informowała o rozmiarze koszulki, i tshirt_colour, która będzie informowała o kolorze. Skorzystaj z metody apply.\n",
        "5. Znajdź zamówienia złożone między 31 grudnia 2014 a 2 sierpnia 2016.\n"
      ],
      "metadata": {
        "id": "6s5atoa1swg0"
      }
    },
    {
      "cell_type": "code",
      "execution_count": 21,
      "metadata": {
        "id": "Ktake9Iqsl1O",
        "colab": {
          "base_uri": "https://localhost:8080/"
        },
        "outputId": "564d22a8-770d-407f-f6cd-ca3bede28d66"
      },
      "outputs": [
        {
          "output_type": "stream",
          "name": "stdout",
          "text": [
            "      order_date  pages_visited         order_id customer_id  tshirt_category  \\\n",
            "0     2016-09-04              9  HTS-038040-0002      038040  White T-Shirt M   \n",
            "1     2014-11-14             11  HTS-801797-0001      801797  White T-Shirt M   \n",
            "2     2017-02-26             10  HTS-vft1eu-0003      vft1eu  White T-Shirt F   \n",
            "3     2013-12-01             10  HTS-914324-0001      914324      Wh Tshirt F   \n",
            "4     2015-10-22             12  HTS-88ua9r-0001      88ua9r  White T-Shirt M   \n",
            "...          ...            ...              ...         ...              ...   \n",
            "26547 2016-11-19             13  HTS-n641x4-0001      n641x4  White T-Shirt M   \n",
            "26548 2016-08-02              4  HTS-q0nm12-0001      q0nm12  White T-Shirt M   \n",
            "26549 2017-03-09              6  HTS-sby0iz-0001      sby0iz  White T-Shirt M   \n",
            "26550 2016-10-04             11  HTS-uz70x4-0001      uz70x4           Hoodie   \n",
            "26551 2016-12-16              9  HTS-xnbc22-0001      xnbc22  Black T-Shirt M   \n",
            "\n",
            "       tshirt_price  tshirt_quantity  \n",
            "0              20.0                1  \n",
            "1              20.0                1  \n",
            "2              18.0                3  \n",
            "3              18.0                1  \n",
            "4              20.0                1  \n",
            "...             ...              ...  \n",
            "26547          20.0                1  \n",
            "26548          20.0                1  \n",
            "26549          20.0                1  \n",
            "26550          23.0                5  \n",
            "26551          19.0                3  \n",
            "\n",
            "[26552 rows x 7 columns]\n"
          ]
        }
      ],
      "source": [
        "import pandas as pd\n",
        "import numpy as np\n",
        "df = pd.read_csv(\"orders.csv\")\n",
        "df[\"order_date\"] = pd.to_datetime(df[\"order_date\"], errors='coerce')\n",
        "print(df)"
      ]
    },
    {
      "cell_type": "code",
      "source": [
        "print(df.tshirt_category.unique())"
      ],
      "metadata": {
        "colab": {
          "base_uri": "https://localhost:8080/"
        },
        "id": "ajr9laK0iMlm",
        "outputId": "4ccd9cf1-5dcb-4f07-c483-ce23e5a5faf4"
      },
      "execution_count": 22,
      "outputs": [
        {
          "output_type": "stream",
          "name": "stdout",
          "text": [
            "['White T-Shirt M' 'White T-Shirt F' 'Wh Tshirt F' 'Black T-Shirt F'\n",
            " 'Hoodie' 'Black T-Shirt M' 'Tennis Shirt' 'Wh Tshirt M' 'Bl Tshirt F'\n",
            " 'Bl Tshirt M']\n"
          ]
        }
      ]
    },
    {
      "cell_type": "code",
      "source": [
        "def replaceAll(str) :\n",
        "  str =str.replace(\"White\",\"Wh\")\n",
        "  str =str.replace(\"Hoodie\",\"NaN Hoodie NaN\")\n",
        "  str= str.replace(\"T-shirt\",\"T-Shirt\")\n",
        "  str= str.replace(\"Tshirt\",\"T-Shirt\")\n",
        "  str=str.replace(\"Black\",\"Bl\")\n",
        "  str=str.replace(\"Tennis Shirt\",\"NaN T-Shirt NaN\")\n",
        "  return str;\n",
        "\n",
        "df['tshirt_category'] = df['tshirt_category'].apply(replaceAll)\n",
        "\n",
        "print(df)"
      ],
      "metadata": {
        "colab": {
          "base_uri": "https://localhost:8080/"
        },
        "id": "njDRWjMriI_f",
        "outputId": "dd9b0d33-2ffc-4fc5-ae97-223119c0bdb4"
      },
      "execution_count": 23,
      "outputs": [
        {
          "output_type": "stream",
          "name": "stdout",
          "text": [
            "      order_date  pages_visited         order_id customer_id tshirt_category  \\\n",
            "0     2016-09-04              9  HTS-038040-0002      038040    Wh T-Shirt M   \n",
            "1     2014-11-14             11  HTS-801797-0001      801797    Wh T-Shirt M   \n",
            "2     2017-02-26             10  HTS-vft1eu-0003      vft1eu    Wh T-Shirt F   \n",
            "3     2013-12-01             10  HTS-914324-0001      914324    Wh T-Shirt F   \n",
            "4     2015-10-22             12  HTS-88ua9r-0001      88ua9r    Wh T-Shirt M   \n",
            "...          ...            ...              ...         ...             ...   \n",
            "26547 2016-11-19             13  HTS-n641x4-0001      n641x4    Wh T-Shirt M   \n",
            "26548 2016-08-02              4  HTS-q0nm12-0001      q0nm12    Wh T-Shirt M   \n",
            "26549 2017-03-09              6  HTS-sby0iz-0001      sby0iz    Wh T-Shirt M   \n",
            "26550 2016-10-04             11  HTS-uz70x4-0001      uz70x4  NaN Hoodie NaN   \n",
            "26551 2016-12-16              9  HTS-xnbc22-0001      xnbc22    Bl T-Shirt M   \n",
            "\n",
            "       tshirt_price  tshirt_quantity  \n",
            "0              20.0                1  \n",
            "1              20.0                1  \n",
            "2              18.0                3  \n",
            "3              18.0                1  \n",
            "4              20.0                1  \n",
            "...             ...              ...  \n",
            "26547          20.0                1  \n",
            "26548          20.0                1  \n",
            "26549          20.0                1  \n",
            "26550          23.0                5  \n",
            "26551          19.0                3  \n",
            "\n",
            "[26552 rows x 7 columns]\n"
          ]
        }
      ]
    },
    {
      "cell_type": "code",
      "source": [
        "#df[['tshirt_colour','tshirt_type', 'tshirt_sex']] = df['tshirt_category'].str.split(' ', 2, expand=True)\n",
        "#df[['tshirt_colour','tshirt_type', 'tshirt_size']] = df.apply(['tshirt_category'].str.split(' ', 2, expand=True))\n",
        "\n",
        "df[['tshirt_colour','tshirt_type', 'tshirt_sex']]=df['tshirt_category'].str.split(' ',expand=True).apply(lambda x: x.str.strip())\n",
        "\n",
        "df = df.drop([\"tshirt_category\"], axis=1)\n",
        "print(df)"
      ],
      "metadata": {
        "colab": {
          "base_uri": "https://localhost:8080/"
        },
        "id": "CQN8r9uciT-S",
        "outputId": "77ed7d80-e7da-4d80-f52e-cc158a5d102b"
      },
      "execution_count": 14,
      "outputs": [
        {
          "output_type": "stream",
          "name": "stdout",
          "text": [
            "      order_date  pages_visited         order_id customer_id  tshirt_price  \\\n",
            "0     2016-09-04              9  HTS-038040-0002      038040          20.0   \n",
            "1     2014-11-14             11  HTS-801797-0001      801797          20.0   \n",
            "2     2017-02-26             10  HTS-vft1eu-0003      vft1eu          18.0   \n",
            "3     2013-12-01             10  HTS-914324-0001      914324          18.0   \n",
            "4     2015-10-22             12  HTS-88ua9r-0001      88ua9r          20.0   \n",
            "...          ...            ...              ...         ...           ...   \n",
            "26547 2016-11-19             13  HTS-n641x4-0001      n641x4          20.0   \n",
            "26548 2016-08-02              4  HTS-q0nm12-0001      q0nm12          20.0   \n",
            "26549 2017-03-09              6  HTS-sby0iz-0001      sby0iz          20.0   \n",
            "26550 2016-10-04             11  HTS-uz70x4-0001      uz70x4          23.0   \n",
            "26551 2016-12-16              9  HTS-xnbc22-0001      xnbc22          19.0   \n",
            "\n",
            "       tshirt_quantity tshirt_colour tshirt_type tshirt_sex  \n",
            "0                    1            Wh     T-Shirt          M  \n",
            "1                    1            Wh     T-Shirt          M  \n",
            "2                    3            Wh     T-Shirt          F  \n",
            "3                    1            Wh     T-Shirt          F  \n",
            "4                    1            Wh     T-Shirt          M  \n",
            "...                ...           ...         ...        ...  \n",
            "26547                1            Wh     T-Shirt          M  \n",
            "26548                1            Wh     T-Shirt          M  \n",
            "26549                1            Wh     T-Shirt          M  \n",
            "26550                5           NaN      Hoodie        NaN  \n",
            "26551                3            Bl     T-Shirt          M  \n",
            "\n",
            "[26552 rows x 9 columns]\n"
          ]
        }
      ]
    },
    {
      "cell_type": "code",
      "source": [
        "df['order_date'] = pd.to_datetime(df['order_date']) \n",
        "mask = (df['order_date'] > '2014-12-31') & (df['order_date'] <= '2016-08-02')\n",
        "print(df.loc[mask])"
      ],
      "metadata": {
        "colab": {
          "base_uri": "https://localhost:8080/"
        },
        "id": "ndxqSHMz7HEF",
        "outputId": "c5a71155-c7d9-407f-cc18-da7d2673db31"
      },
      "execution_count": 15,
      "outputs": [
        {
          "output_type": "stream",
          "name": "stdout",
          "text": [
            "      order_date  pages_visited         order_id customer_id  tshirt_price  \\\n",
            "4     2015-10-22             12  HTS-88ua9r-0001      88ua9r          20.0   \n",
            "5     2016-01-15              9  HTS-061311-0003      061311          17.5   \n",
            "12    2015-11-24             15  HTS-je57lh-0001      je57lh          23.0   \n",
            "13    2015-10-10              8  HTS-252675-0002      252675          20.0   \n",
            "15    2015-11-29             15  HTS-heb26i-0001      heb26i          17.5   \n",
            "...          ...            ...              ...         ...           ...   \n",
            "26496 2016-06-02              2  HTS-5b4bg6-0001      5b4bg6          17.5   \n",
            "26513 2016-07-05             12  HTS-bt08zd-0001      bt08zd          18.0   \n",
            "26515 2016-07-27             17  HTS-gsc3f6-0001      gsc3f6          23.0   \n",
            "26540 2016-06-08              7  HTS-6ba0i0-0001      6ba0i0          20.0   \n",
            "26548 2016-08-02              4  HTS-q0nm12-0001      q0nm12          20.0   \n",
            "\n",
            "       tshirt_quantity tshirt_colour tshirt_type tshirt_sex  \n",
            "4                    1            Wh     T-Shirt          M  \n",
            "5                    4            Bl     T-Shirt          F  \n",
            "12                   3           NaN      Hoodie        NaN  \n",
            "13                   3            Wh     T-Shirt          M  \n",
            "15                   1            Bl     T-Shirt          F  \n",
            "...                ...           ...         ...        ...  \n",
            "26496                1            Bl     T-Shirt          F  \n",
            "26513                1            Wh     T-Shirt          F  \n",
            "26515                1           NaN      Hoodie        NaN  \n",
            "26540                4            Wh     T-Shirt          M  \n",
            "26548                1            Wh     T-Shirt          M  \n",
            "\n",
            "[12619 rows x 9 columns]\n"
          ]
        }
      ]
    },
    {
      "cell_type": "markdown",
      "source": [
        "Zadanie 2 (4 pkt)\n",
        "\n",
        "\n",
        "Wgraj plik customers.csv do ramki danych. \n",
        "\n",
        "Następnie:\n",
        "1. Wypisz kolumny;\n",
        "2. Porównaj rozmiar ramki z rozmiarem ramki w zadaniu 1;\n",
        "3. Zmień nazwę kolumny customerID  na customer_id upewniając się, że dane zmiana zostanie zapisana w pamięci dzięki jednemu z argumentów metody do zmiany nazwy kolumny;\n",
        "4. Połącz ramkę orders z ramką customers po kolumnie customer_id. Z której metody skorzystasz? Zostaw odpowiedź w komentarzu do zadania w kodzie (np. blok komentarzem ‘’’ ‘’’).\n"
      ],
      "metadata": {
        "id": "g0QB8rtHtGhT"
      }
    },
    {
      "cell_type": "code",
      "source": [
        "#1\n",
        "df2 = pd.read_csv(\"customers.csv\")\n",
        "print(df2)\n",
        "#2\n",
        "if len(df2) > len(df) :\n",
        "  print(\"Dłuższa dataframe2\")\n",
        "else:\n",
        "    print(\"Dłuższa dataframe\")"
      ],
      "metadata": {
        "id": "_rfPFhLGtRm-",
        "colab": {
          "base_uri": "https://localhost:8080/"
        },
        "outputId": "d18defac-fdf3-43fe-d10d-810a10ee9e7f"
      },
      "execution_count": 16,
      "outputs": [
        {
          "output_type": "stream",
          "name": "stdout",
          "text": [
            "      customerID gender   birthdate  \\\n",
            "0         886900      M   1953/10/5   \n",
            "1         038040      F  1946/12/21   \n",
            "2         698696      F   1983/12/1   \n",
            "3         sn9keh      M   1990/9/23   \n",
            "4         496907      M    1869/6/8   \n",
            "...          ...    ...         ...   \n",
            "18761     m1yyx6      M   1999/8/19   \n",
            "18762     744375      F  1941/10/22   \n",
            "18763     t6pxeo      F   1950/5/10   \n",
            "18764     930049      F  1979/10/22   \n",
            "18765     950728      M   1997/9/18   \n",
            "\n",
            "                                              user_agent       ip_address  \\\n",
            "0      Mozilla/5.0 (Windows NT 10.0; Win64; x64) Appl...     69.8.136.110   \n",
            "1      Mozilla/5.0 (Windows NT 10.0; WOW64) AppleWebK...    67.74.254.174   \n",
            "2      Mozilla/5.0 (Windows NT 6.3; WOW64) AppleWebKi...    95.135.70.206   \n",
            "3      Mozilla/5.0 (Macintosh; Intel Mac OS X 10_11_6...    129.50.205.26   \n",
            "4      Mozilla/5.0 (Windows NT 6.1; Win64; x64) Apple...     81.98.234.29   \n",
            "...                                                  ...              ...   \n",
            "18761  Mozilla/5.0 (Windows NT 6.1; WOW64) AppleWebKi...     95.142.4.155   \n",
            "18762  Mozilla/5.0 (Windows NT 6.1; Win64; x64) Apple...  119.219.176.225   \n",
            "18763  Mozilla/5.0 (X11; Linux x86_64) AppleWebKit/53...   196.178.254.85   \n",
            "18764  Mozilla/5.0 (Macintosh; Intel Mac OS X 10_12_3...   118.173.208.45   \n",
            "18765  Mozilla/5.0 (Macintosh; Intel Mac OS X 10_12_3...   171.178.68.155   \n",
            "\n",
            "       campaign  \n",
            "0         False  \n",
            "1         False  \n",
            "2         False  \n",
            "3         False  \n",
            "4         False  \n",
            "...         ...  \n",
            "18761      True  \n",
            "18762     False  \n",
            "18763     False  \n",
            "18764     False  \n",
            "18765     False  \n",
            "\n",
            "[18766 rows x 6 columns]\n",
            "Dłuższa dataframe\n"
          ]
        }
      ]
    },
    {
      "cell_type": "code",
      "source": [
        "#3\n",
        "df2.rename(columns = {'customerID':'customer_id'}, inplace = True)\n",
        "print(df2)"
      ],
      "metadata": {
        "colab": {
          "base_uri": "https://localhost:8080/"
        },
        "id": "Rd9Tl4lrF1ej",
        "outputId": "4fed5e0f-7a78-4de1-c6b6-4ea23ee2c43e"
      },
      "execution_count": 17,
      "outputs": [
        {
          "output_type": "stream",
          "name": "stdout",
          "text": [
            "      customer_id gender   birthdate  \\\n",
            "0          886900      M   1953/10/5   \n",
            "1          038040      F  1946/12/21   \n",
            "2          698696      F   1983/12/1   \n",
            "3          sn9keh      M   1990/9/23   \n",
            "4          496907      M    1869/6/8   \n",
            "...           ...    ...         ...   \n",
            "18761      m1yyx6      M   1999/8/19   \n",
            "18762      744375      F  1941/10/22   \n",
            "18763      t6pxeo      F   1950/5/10   \n",
            "18764      930049      F  1979/10/22   \n",
            "18765      950728      M   1997/9/18   \n",
            "\n",
            "                                              user_agent       ip_address  \\\n",
            "0      Mozilla/5.0 (Windows NT 10.0; Win64; x64) Appl...     69.8.136.110   \n",
            "1      Mozilla/5.0 (Windows NT 10.0; WOW64) AppleWebK...    67.74.254.174   \n",
            "2      Mozilla/5.0 (Windows NT 6.3; WOW64) AppleWebKi...    95.135.70.206   \n",
            "3      Mozilla/5.0 (Macintosh; Intel Mac OS X 10_11_6...    129.50.205.26   \n",
            "4      Mozilla/5.0 (Windows NT 6.1; Win64; x64) Apple...     81.98.234.29   \n",
            "...                                                  ...              ...   \n",
            "18761  Mozilla/5.0 (Windows NT 6.1; WOW64) AppleWebKi...     95.142.4.155   \n",
            "18762  Mozilla/5.0 (Windows NT 6.1; Win64; x64) Apple...  119.219.176.225   \n",
            "18763  Mozilla/5.0 (X11; Linux x86_64) AppleWebKit/53...   196.178.254.85   \n",
            "18764  Mozilla/5.0 (Macintosh; Intel Mac OS X 10_12_3...   118.173.208.45   \n",
            "18765  Mozilla/5.0 (Macintosh; Intel Mac OS X 10_12_3...   171.178.68.155   \n",
            "\n",
            "       campaign  \n",
            "0         False  \n",
            "1         False  \n",
            "2         False  \n",
            "3         False  \n",
            "4         False  \n",
            "...         ...  \n",
            "18761      True  \n",
            "18762     False  \n",
            "18763     False  \n",
            "18764     False  \n",
            "18765     False  \n",
            "\n",
            "[18766 rows x 6 columns]\n"
          ]
        }
      ]
    },
    {
      "cell_type": "code",
      "source": [
        "df3=pd.merge(df, df2, on=\"customer_id\")\n",
        "print(df3)"
      ],
      "metadata": {
        "colab": {
          "base_uri": "https://localhost:8080/"
        },
        "id": "oGqfP0LGGwgE",
        "outputId": "d05728f4-39dd-4bcb-e021-7f82f5fdbbdf"
      },
      "execution_count": 18,
      "outputs": [
        {
          "output_type": "stream",
          "name": "stdout",
          "text": [
            "      order_date  pages_visited         order_id customer_id  tshirt_price  \\\n",
            "0     2016-09-04              9  HTS-038040-0002      038040          20.0   \n",
            "1     2014-06-04             13  HTS-038040-0001      038040          18.0   \n",
            "2     2014-11-14             11  HTS-801797-0001      801797          20.0   \n",
            "3     2015-10-22             12  HTS-801797-0002      801797          20.0   \n",
            "4     2017-02-26             10  HTS-vft1eu-0003      vft1eu          18.0   \n",
            "...          ...            ...              ...         ...           ...   \n",
            "25877 2016-11-02             11  HTS-762534-0001      762534          23.0   \n",
            "25878 2016-11-16              4  HTS-hrpv38-0001      hrpv38          20.0   \n",
            "25879 2014-07-12             16  HTS-978569-0001      978569          23.0   \n",
            "25880 2016-08-05             11  HTS-k0batl-0001      k0batl          20.0   \n",
            "25881 2017-03-13             11  HTS-200121-0001      200121          24.0   \n",
            "\n",
            "       tshirt_quantity tshirt_colour tshirt_type tshirt_sex gender  \\\n",
            "0                    1            Wh     T-Shirt          M      F   \n",
            "1                    1            Wh     T-Shirt          F      F   \n",
            "2                    1            Wh     T-Shirt          M      M   \n",
            "3                    2            Wh     T-Shirt          M      M   \n",
            "4                    3            Wh     T-Shirt          F      F   \n",
            "...                ...           ...         ...        ...    ...   \n",
            "25877                1           NaN      Hoodie        NaN      M   \n",
            "25878                3            Wh     T-Shirt          M      F   \n",
            "25879                1           NaN      Hoodie        NaN      M   \n",
            "25880                2            Wh     T-Shirt          M      M   \n",
            "25881                1           NaN     T-Shirt        NaN      F   \n",
            "\n",
            "        birthdate                                         user_agent  \\\n",
            "0      1946/12/21  Mozilla/5.0 (Windows NT 10.0; WOW64) AppleWebK...   \n",
            "1      1946/12/21  Mozilla/5.0 (Windows NT 10.0; WOW64) AppleWebK...   \n",
            "2       1956/7/19  Mozilla/5.0 (Windows NT 10.0; Win64; x64) Appl...   \n",
            "3       1956/7/19  Mozilla/5.0 (Windows NT 10.0; Win64; x64) Appl...   \n",
            "4       1969/6/27  Mozilla/5.0 (Macintosh; Intel Mac OS X 10_12_3...   \n",
            "...           ...                                                ...   \n",
            "25877   1963/8/24  Mozilla/5.0 (Windows NT 10.0; WOW64) AppleWebK...   \n",
            "25878   1951/8/15  Mozilla/5.0 (Windows NT 6.1; WOW64) AppleWebKi...   \n",
            "25879  1986/11/19  Mozilla/5.0 (Windows NT 10.0; WOW64) AppleWebK...   \n",
            "25880    1959/2/6  Mozilla/5.0 (Macintosh; Intel Mac OS X 10_12_3...   \n",
            "25881   1969/8/22  Mozilla/5.0 (Macintosh; Intel Mac OS X 10_12_3...   \n",
            "\n",
            "            ip_address  campaign  \n",
            "0        67.74.254.174     False  \n",
            "1        67.74.254.174     False  \n",
            "2      137.155.219.158     False  \n",
            "3      137.155.219.158     False  \n",
            "4         53.115.6.106      True  \n",
            "...                ...       ...  \n",
            "25877     58.3.164.178      True  \n",
            "25878  118.210.235.250      True  \n",
            "25879    112.172.97.50     False  \n",
            "25880    174.226.65.20     False  \n",
            "25881     56.182.53.24     False  \n",
            "\n",
            "[25882 rows x 14 columns]\n"
          ]
        }
      ]
    },
    {
      "cell_type": "markdown",
      "source": [
        "Zadanie 3 (1 pkt)\n",
        "\n",
        "Nową ramkę (połączenie orders i customers) zapisz do pliku csv, ale zapisz bez kolumny z indeksem.\n"
      ],
      "metadata": {
        "id": "bCKqMqJQtR8s"
      }
    },
    {
      "cell_type": "code",
      "source": [
        "df3.to_csv(\"ordersAndCustomerscombine.csv\",index=False)"
      ],
      "metadata": {
        "id": "J2gA9RVStSTa"
      },
      "execution_count": 19,
      "outputs": []
    }
  ]
}